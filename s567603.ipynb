{
 "cells": [
  {
   "cell_type": "markdown",
   "id": "e279c10f-a5ea-42e4-936a-3dc4b7efe0eb",
   "metadata": {},
   "source": [
    "# s567603\n",
    "\n",
    "## Name: Jake Rood\n",
    "\n",
    "## Date: March 17, 2024"
   ]
  },
  {
   "cell_type": "markdown",
   "id": "2f81eda5-07c4-4ecd-9acf-905f9ecddec8",
   "metadata": {},
   "source": [
    "### Question #10\n",
    "\n",
    "Add a Code cell and write Python that uses loops to draw the following pattern:\n",
    "\n",
    "```\n",
    "*      *\n",
    "**    **\n",
    "***  ***\n",
    "********\n",
    "```"
   ]
  },
  {
   "cell_type": "code",
   "execution_count": 1,
   "id": "dfc49e1d-08b4-4a7b-afa8-78d0255ba264",
   "metadata": {},
   "outputs": [
    {
     "name": "stdout",
     "output_type": "stream",
     "text": [
      "*      *\n",
      "**    **\n",
      "***  ***\n",
      "********\n"
     ]
    }
   ],
   "source": [
    "# Define the number of rows\n",
    "num_rows = 4\n",
    "\n",
    "# Loop through each row\n",
    "for i in range(num_rows):\n",
    "    # Print '*' for the left side of the pattern\n",
    "    for j in range(i + 1):\n",
    "        print('*', end='')\n",
    "    \n",
    "    # Print spaces for the gap between the two sides\n",
    "    for k in range(2 * (num_rows - i - 1)):\n",
    "        print(' ', end='')\n",
    "    \n",
    "    # Print '*' for the right side of the pattern\n",
    "    for l in range(i + 1):\n",
    "        print('*', end='')\n",
    "    \n",
    "    # Move to the next line for the next row\n",
    "    print()"
   ]
  }
 ],
 "metadata": {
  "kernelspec": {
   "display_name": "Python (.venv)",
   "language": "python",
   "name": ".venv"
  },
  "language_info": {
   "codemirror_mode": {
    "name": "ipython",
    "version": 3
   },
   "file_extension": ".py",
   "mimetype": "text/x-python",
   "name": "python",
   "nbconvert_exporter": "python",
   "pygments_lexer": "ipython3",
   "version": "3.11.4"
  }
 },
 "nbformat": 4,
 "nbformat_minor": 5
}
